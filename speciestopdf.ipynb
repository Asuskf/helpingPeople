{
  "nbformat": 4,
  "nbformat_minor": 0,
  "metadata": {
    "colab": {
      "name": "speciestopdf.ipynb",
      "provenance": [],
      "authorship_tag": "ABX9TyNtuj95PYo5gxg1a9KtGxk6",
      "include_colab_link": true
    },
    "kernelspec": {
      "name": "python3",
      "display_name": "Python 3"
    }
  },
  "cells": [
    {
      "cell_type": "markdown",
      "metadata": {
        "id": "view-in-github",
        "colab_type": "text"
      },
      "source": [
        "<a href=\"https://colab.research.google.com/github/Asuskf/helpingPeople/blob/master/speciestopdf.ipynb\" target=\"_parent\"><img src=\"https://colab.research.google.com/assets/colab-badge.svg\" alt=\"Open In Colab\"/></a>"
      ]
    },
    {
      "cell_type": "code",
      "metadata": {
        "id": "B3r39fZH34BC",
        "outputId": "0aa69a59-6573-4be4-dd9a-07655147473e",
        "colab": {
          "base_uri": "https://localhost:8080/",
          "height": 408
        }
      },
      "source": [
        "!pip install tika\n",
        "!pip install unidecode"
      ],
      "execution_count": 1,
      "outputs": [
        {
          "output_type": "stream",
          "text": [
            "Collecting tika\n",
            "  Downloading https://files.pythonhosted.org/packages/96/07/244fbb9c74c0de8a3745cc9f3f496077a29f6418c7cbd90d68fd799574cb/tika-1.24.tar.gz\n",
            "Requirement already satisfied: setuptools in /usr/local/lib/python3.6/dist-packages (from tika) (50.3.0)\n",
            "Requirement already satisfied: requests in /usr/local/lib/python3.6/dist-packages (from tika) (2.23.0)\n",
            "Requirement already satisfied: chardet<4,>=3.0.2 in /usr/local/lib/python3.6/dist-packages (from requests->tika) (3.0.4)\n",
            "Requirement already satisfied: urllib3!=1.25.0,!=1.25.1,<1.26,>=1.21.1 in /usr/local/lib/python3.6/dist-packages (from requests->tika) (1.24.3)\n",
            "Requirement already satisfied: idna<3,>=2.5 in /usr/local/lib/python3.6/dist-packages (from requests->tika) (2.10)\n",
            "Requirement already satisfied: certifi>=2017.4.17 in /usr/local/lib/python3.6/dist-packages (from requests->tika) (2020.6.20)\n",
            "Building wheels for collected packages: tika\n",
            "  Building wheel for tika (setup.py) ... \u001b[?25l\u001b[?25hdone\n",
            "  Created wheel for tika: filename=tika-1.24-cp36-none-any.whl size=32884 sha256=6a6a6d6f28deaf2901b8de2d0362f0bf383a8dd5d4c9c2eb83b39561f4959e3b\n",
            "  Stored in directory: /root/.cache/pip/wheels/73/9c/f5/0b1b738442fc2a2862bef95b908b374f8e80215550fb2a8975\n",
            "Successfully built tika\n",
            "Installing collected packages: tika\n",
            "Successfully installed tika-1.24\n",
            "Collecting unidecode\n",
            "\u001b[?25l  Downloading https://files.pythonhosted.org/packages/d0/42/d9edfed04228bacea2d824904cae367ee9efd05e6cce7ceaaedd0b0ad964/Unidecode-1.1.1-py2.py3-none-any.whl (238kB)\n",
            "\u001b[K     |████████████████████████████████| 245kB 2.7MB/s \n",
            "\u001b[?25hInstalling collected packages: unidecode\n",
            "Successfully installed unidecode-1.1.1\n"
          ],
          "name": "stdout"
        }
      ]
    },
    {
      "cell_type": "code",
      "metadata": {
        "id": "GJcIzEJU4ND0"
      },
      "source": [
        "from tika import parser\n",
        "from pandas import DataFrame\n",
        "import unicodedata"
      ],
      "execution_count": 2,
      "outputs": []
    },
    {
      "cell_type": "code",
      "metadata": {
        "id": "VbQ4RBio4QxX",
        "outputId": "9cb6d004-0074-408f-f7bc-12ddbf8f724c",
        "colab": {
          "base_uri": "https://localhost:8080/",
          "height": 93
        }
      },
      "source": [
        "raw = parser.from_file('ESPECIES_FINAL.pdf')\n"
      ],
      "execution_count": 3,
      "outputs": [
        {
          "output_type": "stream",
          "text": [
            "2020-10-02 16:54:55,188 [MainThread  ] [INFO ]  Retrieving http://search.maven.org/remotecontent?filepath=org/apache/tika/tika-server/1.24/tika-server-1.24.jar to /tmp/tika-server.jar.\n",
            "2020-10-02 16:55:03,921 [MainThread  ] [INFO ]  Retrieving http://search.maven.org/remotecontent?filepath=org/apache/tika/tika-server/1.24/tika-server-1.24.jar.md5 to /tmp/tika-server.jar.md5.\n",
            "2020-10-02 16:55:05,543 [MainThread  ] [WARNI]  Failed to see startup log message; retrying...\n"
          ],
          "name": "stderr"
        }
      ]
    },
    {
      "cell_type": "code",
      "metadata": {
        "id": "3eAVRNKU4Uwp"
      },
      "source": [
        "lista = raw['content'].replace('\\uf0b7 ',\"\").replace('ESPECIES / Nº ÁRBOLES', '').split('\\n\\n')\n",
        "lista = list(filter(None, lista))"
      ],
      "execution_count": 17,
      "outputs": []
    },
    {
      "cell_type": "code",
      "metadata": {
        "id": "X6ptrV2u6W85"
      },
      "source": [
        "encabezados = lista[-3].split('\\nAAL\\xa0')[0].replace('\\n','').split(' ')"
      ],
      "execution_count": 21,
      "outputs": []
    },
    {
      "cell_type": "code",
      "metadata": {
        "id": "9xs7IOOuQnCa"
      },
      "source": [
        "especies = lista[1::2]"
      ],
      "execution_count": 28,
      "outputs": []
    },
    {
      "cell_type": "code",
      "metadata": {
        "id": "t4BJlivORBNz"
      },
      "source": [
        "nuevo_list_esp = [elementos.replace('ESPECIES TOTAL','').split('\\n') for elementos in especies]\n",
        "nuevo_list_esp = [especie for listas_especies in nuevo_list_esp for especie in listas_especies]"
      ],
      "execution_count": 34,
      "outputs": []
    },
    {
      "cell_type": "code",
      "metadata": {
        "id": "cWaXp7_ER8sV"
      },
      "source": [
        "aux_especie = [str(elemento.split(\"\\xa0∙\\xa0\")).split(' ') for elemento in nuevo_list_esp ]\n",
        "aux_especie = [ especie.replace('\\\\xa0', ' ').replace(\"['\", '').replace(\"'\", '').replace(',', '').replace(']', '') for list_especie in aux_especie for especie in  list_especie]\n",
        "aux_especie = list(filter(None, aux_especie))"
      ],
      "execution_count": 42,
      "outputs": []
    },
    {
      "cell_type": "code",
      "metadata": {
        "id": "CwJj3adkVIgn"
      },
      "source": [
        "nombre = aux_especie[1::3]\n",
        "codigo = aux_especie[0::3]\n",
        "numero_especie = aux_especie[2::3]"
      ],
      "execution_count": 60,
      "outputs": []
    },
    {
      "cell_type": "code",
      "metadata": {
        "id": "vo6hBx3oWf_7",
        "outputId": "0d2fbba1-d355-40bb-d1ca-a439c60718f1",
        "colab": {
          "base_uri": "https://localhost:8080/",
          "height": 424
        }
      },
      "source": [
        "df = DataFrame({'codigo':codigo, encabezados[0]:nombre, encabezados[1]:numero_especie})\n",
        "df"
      ],
      "execution_count": 61,
      "outputs": [
        {
          "output_type": "execute_result",
          "data": {
            "text/html": [
              "<div>\n",
              "<style scoped>\n",
              "    .dataframe tbody tr th:only-of-type {\n",
              "        vertical-align: middle;\n",
              "    }\n",
              "\n",
              "    .dataframe tbody tr th {\n",
              "        vertical-align: top;\n",
              "    }\n",
              "\n",
              "    .dataframe thead th {\n",
              "        text-align: right;\n",
              "    }\n",
              "</style>\n",
              "<table border=\"1\" class=\"dataframe\">\n",
              "  <thead>\n",
              "    <tr style=\"text-align: right;\">\n",
              "      <th></th>\n",
              "      <th>codigo</th>\n",
              "      <th>ESPECIES</th>\n",
              "      <th>TOTAL</th>\n",
              "    </tr>\n",
              "  </thead>\n",
              "  <tbody>\n",
              "    <tr>\n",
              "      <th>0</th>\n",
              "      <td>AAL</td>\n",
              "      <td>Ailanthus altissima ‐ Ailanto (AAL)</td>\n",
              "      <td>396</td>\n",
              "    </tr>\n",
              "    <tr>\n",
              "      <th>1</th>\n",
              "      <td>AAR</td>\n",
              "      <td>Araucaria araucana ‐ Araucaria de Chile (AAR)</td>\n",
              "      <td>1</td>\n",
              "    </tr>\n",
              "    <tr>\n",
              "      <th>2</th>\n",
              "      <td>AAX</td>\n",
              "      <td>Acacia sp ‐  (AAX)</td>\n",
              "      <td>2</td>\n",
              "    </tr>\n",
              "    <tr>\n",
              "      <th>3</th>\n",
              "      <td>ABA</td>\n",
              "      <td>Abies alba ‐ Abeto blanco (ABA)</td>\n",
              "      <td>1</td>\n",
              "    </tr>\n",
              "    <tr>\n",
              "      <th>4</th>\n",
              "      <td>ABL</td>\n",
              "      <td>Acacia baileyana ‐  (ABL)</td>\n",
              "      <td>14</td>\n",
              "    </tr>\n",
              "    <tr>\n",
              "      <th>...</th>\n",
              "      <td>...</td>\n",
              "      <td>...</td>\n",
              "      <td>...</td>\n",
              "    </tr>\n",
              "    <tr>\n",
              "      <th>175</th>\n",
              "      <td>YAL</td>\n",
              "      <td>Yucca aloifolia ‐  (YAL)</td>\n",
              "      <td>3</td>\n",
              "    </tr>\n",
              "    <tr>\n",
              "      <th>176</th>\n",
              "      <td>YEL</td>\n",
              "      <td>Yucca elephantipes ‐ Yuca (YEL)</td>\n",
              "      <td>27</td>\n",
              "    </tr>\n",
              "    <tr>\n",
              "      <th>177</th>\n",
              "      <td>YGL</td>\n",
              "      <td>Yucca gloriosa ‐  (YGL)</td>\n",
              "      <td>9</td>\n",
              "    </tr>\n",
              "    <tr>\n",
              "      <th>178</th>\n",
              "      <td>ZIJ</td>\n",
              "      <td>Zizyphus jujuba ‐ Azufaifo (ZIJ)</td>\n",
              "      <td>3</td>\n",
              "    </tr>\n",
              "    <tr>\n",
              "      <th>179</th>\n",
              "      <td>ZZ</td>\n",
              "      <td>Especie sin determinar ‐  (ZZ)</td>\n",
              "      <td>7323</td>\n",
              "    </tr>\n",
              "  </tbody>\n",
              "</table>\n",
              "<p>180 rows × 3 columns</p>\n",
              "</div>"
            ],
            "text/plain": [
              "    codigo                                       ESPECIES TOTAL\n",
              "0      AAL            Ailanthus altissima ‐ Ailanto (AAL)   396\n",
              "1      AAR  Araucaria araucana ‐ Araucaria de Chile (AAR)     1\n",
              "2      AAX                             Acacia sp ‐  (AAX)     2\n",
              "3      ABA                Abies alba ‐ Abeto blanco (ABA)     1\n",
              "4      ABL                      Acacia baileyana ‐  (ABL)    14\n",
              "..     ...                                            ...   ...\n",
              "175    YAL                       Yucca aloifolia ‐  (YAL)     3\n",
              "176    YEL                Yucca elephantipes ‐ Yuca (YEL)    27\n",
              "177    YGL                        Yucca gloriosa ‐  (YGL)     9\n",
              "178    ZIJ               Zizyphus jujuba ‐ Azufaifo (ZIJ)     3\n",
              "179     ZZ                 Especie sin determinar ‐  (ZZ)  7323\n",
              "\n",
              "[180 rows x 3 columns]"
            ]
          },
          "metadata": {
            "tags": []
          },
          "execution_count": 61
        }
      ]
    },
    {
      "cell_type": "code",
      "metadata": {
        "id": "FEWQWzQVPaNO"
      },
      "source": [
        ""
      ],
      "execution_count": null,
      "outputs": []
    }
  ]
}